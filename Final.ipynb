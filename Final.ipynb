{
  "cells": [
    {
      "cell_type": "code",
      "metadata": {
        "jukit_cell_id": "PugefRXIFZ"
      },
      "source": [
        "import pandas as pd, numpy as np, tensorflow as tf,  keras_nlp as nlp, keras\n",
        "from sklearn.model_selection import train_test_split"
      ],
      "outputs": [],
      "execution_count": null
    },
    {
      "cell_type": "code",
      "metadata": {
        "jukit_cell_id": "S3vlxen8zo"
      },
      "source": [
        "#Generate split\n",
        "generate_split = False\n",
        "dev = True\n",
        "if generate_split:\n",
        "    df = pd.read_csv('./data/en-fr.csv', encoding='latin-1')\n",
        "    train, test = train_test_split(df, test_size=0.2)\n",
        "    train, test = pd.DataFrame(train), pd.DataFrame(test) #My LSP is bugged, this shut up the warnings\n",
        "    train.to_csv('./data/train.csv', index=False)\n",
        "    train.iloc[:10000].to_csv('./data/smol_train.csv', index=False)\n",
        "    test.to_csv('./data/test.csv', index=False)\n",
        "    test.iloc[:1000].to_csv('./data/smol_test.csv', index=False)\n",
        "    if dev:\n",
        "        train = train.iloc[:10000]\n",
        "        test = test.iloc[:1000]\n",
        "else:\n",
        "    if dev:\n",
        "        train = pd.read_csv('./data/smol_train.csv', encoding='latin-1')\n",
        "        test = pd.read_csv('./data/smol_test.csv', encoding='latin-1')\n",
        "    else:\n",
        "        train = pd.read_csv('./data/train.csv', encoding='latin-1')\n",
        "        test = pd.read_csv('./data/test.csv', encoding='latin-1')\n",
        "print(train.shape, test.shape)\n",
        "print(train.head())\n",
        "print(test.head())"
      ],
      "outputs": [
        {
          "output_type": "stream",
          "name": "stdout",
          "text": "(10000, 2) (1000, 2)\n                                                         en                                                 fr\n13092249  This is accomplished through a range of activi...  Toute une gamme d'activit\u00c3\u00a9s lui permet d'atte...\n21514116  Ms. Sabir was understandably very offended by ...  Mme Sabir a tout naturellement \u00c3\u00a9t\u00c3\u00a9 offens\u00c3\u00a9e...\n1883214   She will not report the interest income from h...  Elle n'a pas \u00c3\u00a0 inclure dans sa d\u00c3\u00a9claration c...\n16979510  On the part of Mr. Morken, while he may first ...  En ce qui concerne M. Morken, m\u00c3\u00aame si, au d\u00c3\u00a9...\n2643386   E Jean-Pierre Kingsley Chief Electoral Officer...  \u00c3\u0089 Jean-Pierre Kingsley Directeur g\u00c3\u00a9n\u00c3\u00a9ral de...\n                                                         en                                                 fr\n18826918  FinTRAC will also have primary responsibility ...  Le Centre aura aussi la responsabilit\u00c3\u00a9 de s\u00e2\u0080...\n15308515   It is required to report to Parliament annually.  Maintien de l'autonomie financi\u00c3\u00a8re dans ses a...\n17695402  The bilingualism of the individuals also produ...  La cat\u00c3\u00a9gorie professionnelle n\u00e2\u0080\u0099a qu\u00e2\u0080\u0099une i...\n14675380  Whereas in prior years, the investment portfol...  Consid\u00c3\u00a9rant que, par le pass\u00c3\u00a9 le portefeuill...\n21540246  A similar indictment was issued in September 2...  Un acte d'accusation similaire a \u00c3\u00a9t\u00c3\u00a9 d\u00c3\u00a9livr...\n"
        }
      ],
      "execution_count": 1
    },
    {
      "cell_type": "code",
      "metadata": {
        "jukit_cell_id": "KqiTcyJspM"
      },
      "source": [],
      "outputs": [
        {
          "output_type": "stream",
          "name": "stdout",
          "text": "\u001b[0;31m---------------------------------------------------------------------------\u001b[0m\n\u001b[0;31mNameError\u001b[0m                                 Traceback (most recent call last)\nCell \u001b[0;32mIn[2], line 1\u001b[0m\n\u001b[0;32m----> 1\u001b[0m train, test \u001b[38;5;241m=\u001b[39m \u001b[43mtrain_test_split\u001b[49m(df, test_size\u001b[38;5;241m=\u001b[39m\u001b[38;5;241m0.2\u001b[39m)\n\n\u001b[0;31mNameError\u001b[0m: name 'train_test_split' is not defined\n"
        }
      ],
      "execution_count": 2
    },
    {
      "cell_type": "code",
      "metadata": {
        "jukit_cell_id": "pK2JFKStii"
      },
      "source": [],
      "outputs": [
        {
          "output_type": "stream",
          "name": "stdout",
          "text": "\u001b[0;31m---------------------------------------------------------------------------\u001b[0m\n\u001b[0;31mNameError\u001b[0m                                 Traceback (most recent call last)\nCell \u001b[0;32mIn[3], line 1\u001b[0m\n\u001b[0;32m----> 1\u001b[0m \u001b[43mtrain\u001b[49m\n\n\u001b[0;31mNameError\u001b[0m: name 'train' is not defined\n"
        }
      ],
      "execution_count": 3
    },
    {
      "cell_type": "code",
      "metadata": {
        "jukit_cell_id": "t0TkHKeH9E"
      },
      "source": [
        "# Examples from kerasnlp\n",
        "# Preprocessing params.\n",
        "PRETRAINING_BATCH_SIZE = 128\n",
        "FINETUNING_BATCH_SIZE = 32\n",
        "SEQ_LENGTH = 128\n",
        "MASK_RATE = 0.25\n",
        "PREDICTIONS_PER_SEQ = 32\n",
        "\n",
        "# Model params.\n",
        "NUM_LAYERS = 3\n",
        "MODEL_DIM = 256\n",
        "INTERMEDIATE_DIM = 512\n",
        "NUM_HEADS = 4\n",
        "DROPOUT = 0.1\n",
        "NORM_EPSILON = 1e-5\n",
        "\n",
        "# Training params.\n",
        "PRETRAINING_LEARNING_RATE = 5e-4\n",
        "PRETRAINING_EPOCHS = 8\n",
        "FINETUNING_LEARNING_RATE = 5e-5\n",
        "FINETUNING_EPOCHS = 3"
      ],
      "outputs": [],
      "execution_count": null
    },
    {
      "cell_type": "code",
      "metadata": {
        "jukit_cell_id": "7WvQC4Sl1s"
      },
      "source": [
        "data = tf.data.experimental.CsvDataset('./data/en-fr.csv', [tf.string, tf.string], header=True).batch(FINETUNING_BATCH_SIZE) "
      ],
      "outputs": [],
      "execution_count": null
    },
    {
      "cell_type": "code",
      "metadata": {
        "jukit_cell_id": "a5JxK8rOWB"
      },
      "source": [
        "print(data.unbatch().batch(4).take(1).get_single_element())"
      ],
      "outputs": [
        {
          "output_type": "stream",
          "name": "stdout",
          "text": "(<tf.Tensor: shape=(4,), dtype=string, numpy=\narray([b'Changing Lives | Changing Society | How It Works | Technology Drives Change Home | Concepts | Teachers | Search | Overview | Credits | HHCC Web | Reference | Feedback Virtual Museum of Canada Home Page',\n       b'Site map', b'Feedback', b'Credits'], dtype=object)>, <tf.Tensor: shape=(4,), dtype=string, numpy=\narray([b'Il a transform\\xc3\\xa9 notre vie | Il a transform\\xc3\\xa9 la soci\\xc3\\xa9t\\xc3\\xa9 | Son fonctionnement | La technologie, moteur du changement Accueil | Concepts | Enseignants | Recherche | Aper\\xc3\\xa7u | Collaborateurs | Web HHCC | Ressources | Commentaires Mus\\xc3\\xa9e virtuel du Canada',\n       b'Plan du site', b'R\\xc3\\xa9troaction', b'Cr\\xc3\\xa9dits'],\n      dtype=object)>)\n"
        }
      ],
      "execution_count": 4
    },
    {
      "cell_type": "code",
      "metadata": {
        "jukit_cell_id": "O9azS94Cqu"
      },
      "source": [
        "tokenizer = nlp.tokenizers.WordPieceTokenizer()"
      ],
      "outputs": [],
      "execution_count": null
    }
  ],
  "metadata": {
    "anaconda-cloud": {},
    "kernelspec": {
      "display_name": "python",
      "language": "python",
      "name": "python3"
    }
  },
  "nbformat": 4,
  "nbformat_minor": 4
}