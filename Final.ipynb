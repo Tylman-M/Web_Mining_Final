{
  "cells": [
    {
      "cell_type": "code",
      "metadata": {
        "jukit_cell_id": "PugefRXIFZ"
      },
      "source": [
        "import pandas as pd, numpy as np, tensorflow as tf,  keras_nlp as nlp, keras"
      ],
      "outputs": [],
      "execution_count": null
    },
    {
      "cell_type": "code",
      "metadata": {
        "jukit_cell_id": "q2I0VyEDs3"
      },
      "source": [
        "#df = pd.read_csv('./data/en-fr.csv')\n",
        "#df.head()"
      ],
      "outputs": [],
      "execution_count": null
    },
    {
      "cell_type": "code",
      "metadata": {
        "jukit_cell_id": "pK2JFKStii"
      },
      "source": [],
      "outputs": [],
      "execution_count": null
    },
    {
      "cell_type": "code",
      "metadata": {
        "jukit_cell_id": "t0TkHKeH9E"
      },
      "source": [
        "# Examples from kerasnlp\n",
        "# Preprocessing params.\n",
        "PRETRAINING_BATCH_SIZE = 128\n",
        "FINETUNING_BATCH_SIZE = 32\n",
        "SEQ_LENGTH = 128\n",
        "MASK_RATE = 0.25\n",
        "PREDICTIONS_PER_SEQ = 32\n",
        "\n",
        "# Model params.\n",
        "NUM_LAYERS = 3\n",
        "MODEL_DIM = 256\n",
        "INTERMEDIATE_DIM = 512\n",
        "NUM_HEADS = 4\n",
        "DROPOUT = 0.1\n",
        "NORM_EPSILON = 1e-5\n",
        "\n",
        "# Training params.\n",
        "PRETRAINING_LEARNING_RATE = 5e-4\n",
        "PRETRAINING_EPOCHS = 8\n",
        "FINETUNING_LEARNING_RATE = 5e-5\n",
        "FINETUNING_EPOCHS = 3"
      ],
      "outputs": [],
      "execution_count": null
    },
    {
      "cell_type": "code",
      "metadata": {
        "jukit_cell_id": "7WvQC4Sl1s"
      },
      "source": [
        "data = tf.data.experimental.CsvDataset('./data/en-fr.csv', [tf.string, tf.string], header=True).batch(FINETUNING_BATCH_SIZE) "
      ],
      "outputs": [],
      "execution_count": null
    },
    {
      "cell_type": "code",
      "metadata": {
        "jukit_cell_id": "a5JxK8rOWB"
      },
      "source": [
        "print(data.unbatch().batch(4).take(1).get_single_element())"
      ],
      "outputs": [
        {
          "output_type": "stream",
          "name": "stdout",
          "text": "(<tf.Tensor: shape=(4,), dtype=string, numpy=\narray([b'Changing Lives | Changing Society | How It Works | Technology Drives Change Home | Concepts | Teachers | Search | Overview | Credits | HHCC Web | Reference | Feedback Virtual Museum of Canada Home Page',\n       b'Site map', b'Feedback', b'Credits'], dtype=object)>, <tf.Tensor: shape=(4,), dtype=string, numpy=\narray([b'Il a transform\\xc3\\xa9 notre vie | Il a transform\\xc3\\xa9 la soci\\xc3\\xa9t\\xc3\\xa9 | Son fonctionnement | La technologie, moteur du changement Accueil | Concepts | Enseignants | Recherche | Aper\\xc3\\xa7u | Collaborateurs | Web HHCC | Ressources | Commentaires Mus\\xc3\\xa9e virtuel du Canada',\n       b'Plan du site', b'R\\xc3\\xa9troaction', b'Cr\\xc3\\xa9dits'],\n      dtype=object)>)\n"
        }
      ],
      "execution_count": 1
    },
    {
      "cell_type": "code",
      "metadata": {
        "jukit_cell_id": "O9azS94Cqu"
      },
      "source": [
        "tokenizer = nlp.tokenizers.WordPieceTokenizer()"
      ],
      "outputs": [],
      "execution_count": null
    }
  ],
  "metadata": {
    "anaconda-cloud": {},
    "kernelspec": {
      "display_name": "python",
      "language": "python",
      "name": "python3"
    }
  },
  "nbformat": 4,
  "nbformat_minor": 4
}